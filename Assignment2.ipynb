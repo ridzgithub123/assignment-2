{
 "cells": [
  {
   "cell_type": "code",
   "execution_count": 4,
   "id": "2e0cb167-f76c-40ba-86b1-abb99d636af6",
   "metadata": {},
   "outputs": [
    {
     "data": {
      "text/plain": [
       "' Helloo!!\\npython is the easiest programming lang as compared to other language.\\nSyntax in python easily understandable.\\nPython has several inbuilt funcn(s) in libraries.\\n'"
      ]
     },
     "execution_count": 4,
     "metadata": {},
     "output_type": "execute_result"
    }
   ],
   "source": [
    "#Q1 How do you commment code in python?What are the different type of comments?\n",
    "'''\n",
    "We can comment code by using hash(#) or triple quotes\n",
    "\n",
    "THERE are two differnt types of comments in python-\n",
    "1) Single line Comment- It comments single line at a time .# is use to comment a single line statement.\n",
    "2) Multiline comment-It comments multiple line at once .''' '''........''' ''' is used comment paragraph or more than 1 line statement. \n",
    "'''\n",
    "       ### EXAMPLES###\n",
    "# hello ! This is single line comment...\n",
    "''' Helloo!!\n",
    "python is the easiest programming lang as compared to other language.\n",
    "Syntax in python easily understandable.\n",
    "Python has several inbuilt funcn(s) in libraries.\n",
    "'''"
   ]
  },
  {
   "cell_type": "code",
   "execution_count": 6,
   "id": "182688d8-a2cc-4699-9d57-2baa5f019d3e",
   "metadata": {},
   "outputs": [
    {
     "name": "stdout",
     "output_type": "stream",
     "text": [
      "We assign value of a is 5 and b is  10\n"
     ]
    }
   ],
   "source": [
    "''' Q2 What are variables in python? How do you declare and assign values to variables?\n",
    "\n",
    "Variables are the reserved memory location to store certain values.\n",
    "We can simply declare variable in phython by writting its name (any name we want to give ).\n",
    "And to assign value we have to write variable name ,put (=) and then value we want to assign.\n",
    "'''\n",
    "\n",
    "#variable decleration and assignment\n",
    "a=5\n",
    "b=10\n",
    "print(\"We assign value of a is\",a, \"and b is \",b)"
   ]
  },
  {
   "cell_type": "code",
   "execution_count": 7,
   "id": "b7d71da5-9e7e-4406-8b22-a6febcf1e50a",
   "metadata": {},
   "outputs": [
    {
     "name": "stdout",
     "output_type": "stream",
     "text": [
      "134\n"
     ]
    }
   ],
   "source": [
    "''' Q3 How do we convert one data type to another?\n",
    "Data can convert in two ways-\n",
    "1)  Implicit type conversion which python interpreter do by itself whenever reqired.\n",
    "2)  Explicit type conversion in which we use python inbuilt funcn  like int(),float() etc.. to convert it explicitly.\n",
    "'''\n",
    "# Exammple for explicit conversion\n",
    "a=78.9\n",
    "b=56.0\n",
    "c=int(a+b)\n",
    "print(c)"
   ]
  },
  {
   "cell_type": "code",
   "execution_count": null,
   "id": "2fe2d712-0bfa-4bbf-aace-d5ebbb8518a1",
   "metadata": {},
   "outputs": [],
   "source": [
    "# NOW 134 is integer type data which is explicitly converted ."
   ]
  },
  {
   "cell_type": "code",
   "execution_count": null,
   "id": "ec2900fb-c13f-430e-b5fb-95f0dccc8928",
   "metadata": {},
   "outputs": [],
   "source": [
    "\n",
    "#Q4 How do you write and execute a python script fromm the command line?\n",
    "\n",
    "#It is easy to run Python scripts from the command line.\n",
    "\n",
    "# 1.Verify your terminal or command prompt can run Python\n",
    "# 2.Create a Python script that is error-free\n",
    "# 3.Use python your/file/name.py to run your script from the terminal"
   ]
  },
  {
   "cell_type": "code",
   "execution_count": 8,
   "id": "13f8c8c4-0237-43dd-b30a-23f20d472b71",
   "metadata": {},
   "outputs": [
    {
     "data": {
      "text/plain": [
       "[2, 3]"
      ]
     },
     "execution_count": 8,
     "metadata": {},
     "output_type": "execute_result"
    }
   ],
   "source": [
    "#Q5 Given a list my_list=[1,2,3,4,5],Write the code to slice the list and obtain the sublist[2,3]\n",
    "\n",
    "\n",
    "my_list = [1,2,3,4,5]\n",
    "# we will slice this list to get the required list\n",
    "my_list[1:3]"
   ]
  },
  {
   "cell_type": "code",
   "execution_count": 9,
   "id": "6ddb97e1-7de1-4353-84f3-4395c1f7cd85",
   "metadata": {},
   "outputs": [
    {
     "data": {
      "text/plain": [
       "complex"
      ]
     },
     "execution_count": 9,
     "metadata": {},
     "output_type": "execute_result"
    }
   ],
   "source": [
    "# Q6 what is a complex no in mathematics,and how it is represented in python?\n",
    "'''\n",
    "The complex number is basically the combination of a real number and an imaginary number.\n",
    "The complex number is in the form of a+ib, where a = real number and ib = imaginary number.where, a,b belongs to real numbers and i = √-1. \n",
    " In python complex no is represnted as a+bj form.\n",
    "'''\n",
    "#example of complex no in python.\n",
    "x=6+5j\n",
    "type(x)"
   ]
  },
  {
   "cell_type": "code",
   "execution_count": null,
   "id": "21391aae-b2bb-41f8-829c-62a01af1ba27",
   "metadata": {},
   "outputs": [],
   "source": [
    "#Q7 What iscoorect way to declare a variable named age and assign the value 25 to it?\n",
    "#way to assign it-\n",
    "age=25\n"
   ]
  },
  {
   "cell_type": "code",
   "execution_count": 10,
   "id": "9ca4a297-ee0a-473e-b9c3-4cfc8b21e339",
   "metadata": {},
   "outputs": [
    {
     "data": {
      "text/plain": [
       "float"
      ]
     },
     "execution_count": 10,
     "metadata": {},
     "output_type": "execute_result"
    }
   ],
   "source": [
    "#Q8 Declare a variable named price and assign the value 9.99 to it.What data type does this variable belongs to?\n",
    "price=9.99\n",
    "# it is float type data.\n",
    "type(price)"
   ]
  },
  {
   "cell_type": "code",
   "execution_count": 11,
   "id": "39628738-c3fb-434d-bc3c-0288da5a0f29",
   "metadata": {},
   "outputs": [
    {
     "name": "stdout",
     "output_type": "stream",
     "text": [
      "Riddhi Tandon\n"
     ]
    }
   ],
   "source": [
    "#Q9 Create a variable named namme and assign your full namme to it as a string.How would you print the value of this variable?\n",
    "name=\"Riddhi Tandon\"\n",
    "print(name)"
   ]
  },
  {
   "cell_type": "code",
   "execution_count": 12,
   "id": "bbb90abc-3a5c-4646-bd7e-24d1c201e212",
   "metadata": {},
   "outputs": [
    {
     "data": {
      "text/plain": [
       "'World'"
      ]
     },
     "execution_count": 12,
     "metadata": {},
     "output_type": "execute_result"
    }
   ],
   "source": [
    "# Q10 Given a string \"Hello, World!\",extract the substring \"World\".\n",
    "str=\"Hello, World!\"\n",
    "str[7:12]"
   ]
  },
  {
   "cell_type": "code",
   "execution_count": 14,
   "id": "bde44623-2cc1-486a-9c95-e9c98ea6c871",
   "metadata": {},
   "outputs": [
    {
     "name": "stdout",
     "output_type": "stream",
     "text": [
      "ARE YOU A CLG STUDENT : IF YES THEN INPUT Y/y IF NOT A CLG STUDENT THEN N/n\n"
     ]
    },
    {
     "name": "stdin",
     "output_type": "stream",
     "text": [
      " y\n"
     ]
    },
    {
     "name": "stdout",
     "output_type": "stream",
     "text": [
      "True\n"
     ]
    }
   ],
   "source": [
    "#Q11 Create a variable named \"is_student\" and assign it a boolean value indicating whether you are curently a student or not.\n",
    "is_student = True\n",
    "print(\"ARE YOU A CLG STUDENT : IF YES THEN INPUT Y/y IF NOT A CLG STUDENT THEN N/n\")\n",
    "x=input()\n",
    "if(x=='y' or x=='Y'):\n",
    "  is_student = True\n",
    "  print(is_student)\n",
    "else:\n",
    "    is_student = False\n",
    "    print(is_student)\n"
   ]
  },
  {
   "cell_type": "code",
   "execution_count": null,
   "id": "058c6397-6b6f-48c5-a96e-59631e428916",
   "metadata": {},
   "outputs": [],
   "source": []
  }
 ],
 "metadata": {
  "kernelspec": {
   "display_name": "Python 3 (ipykernel)",
   "language": "python",
   "name": "python3"
  },
  "language_info": {
   "codemirror_mode": {
    "name": "ipython",
    "version": 3
   },
   "file_extension": ".py",
   "mimetype": "text/x-python",
   "name": "python",
   "nbconvert_exporter": "python",
   "pygments_lexer": "ipython3",
   "version": "3.10.8"
  }
 },
 "nbformat": 4,
 "nbformat_minor": 5
}
